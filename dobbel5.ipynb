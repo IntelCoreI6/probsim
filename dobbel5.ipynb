{
  "cells": [
    {
      "cell_type": "markdown",
      "metadata": {
        "id": "view-in-github",
        "colab_type": "text"
      },
      "source": [
        "<a href=\"https://colab.research.google.com/github/IntelCoreI6/probsim/blob/main/dobbel5.ipynb\" target=\"_parent\"><img src=\"https://colab.research.google.com/assets/colab-badge.svg\" alt=\"Open In Colab\"/></a>"
      ]
    },
    {
      "cell_type": "code",
      "source": [
        "%pylab inline"
      ],
      "metadata": {
        "colab": {
          "base_uri": "https://localhost:8080/"
        },
        "id": "iBQr2dHnooG2",
        "outputId": "51902ddd-fffd-492e-e703-68ae59e56eaa"
      },
      "execution_count": 1,
      "outputs": [
        {
          "output_type": "stream",
          "name": "stdout",
          "text": [
            "Populating the interactive namespace from numpy and matplotlib\n"
          ]
        }
      ]
    },
    {
      "cell_type": "code",
      "execution_count": 3,
      "metadata": {
        "id": "kjWogA3dC3U7"
      },
      "outputs": [],
      "source": [
        "#@title Setup  als het niet werkt:: !pip install gevent :: !pip install grequests\n",
        "from numba import jit, njit, vectorize\n",
        "from random import randint\n",
        "import time\n",
        "import threading\n",
        "samples = 100000\n",
        "\n",
        "all62 = 0\n"
      ]
    },
    {
      "cell_type": "code",
      "execution_count": 11,
      "metadata": {
        "id": "PbC6xFP5C_C-",
        "colab": {
          "base_uri": "https://localhost:8080/"
        },
        "outputId": "38f034da-0cc7-4925-9a27-656d1372b644"
      },
      "outputs": [
        {
          "output_type": "stream",
          "name": "stdout",
          "text": [
            "running 100000 samples\n"
          ]
        }
      ],
      "source": [
        "print(f\"running {samples} samples\")\n",
        "\n",
        "def calcu():\n",
        "  samples = 100000000000\n",
        "  all61 = 0\n",
        "  itter = 0\n",
        "  for i in range(1, samples):\n",
        "      d1 = randint(1, 6)\n",
        "      d2 = randint(1, 6)\n",
        "      d3 = randint(1, 6)\n",
        "      d4 = randint(1, 6)\n",
        "      d5 = randint(1, 6)\n",
        "      if d1 == d2 == d3 == d4 == d5 == 6:\n",
        "        all61 += 1\n",
        "      itter += 1\n",
        "      #print(f\"{(itter/samples)*100}%\")\n",
        "  print(\"DONE\")\n",
        "  print(all61, (all61 / samples) * 100)\n",
        "\n"
      ]
    },
    {
      "cell_type": "code",
      "source": [
        "optimz = jit(nopython=True)(calcu)"
      ],
      "metadata": {
        "id": "Xx7PpNK7sapl"
      },
      "execution_count": 12,
      "outputs": []
    },
    {
      "cell_type": "code",
      "source": [
        "optimz()"
      ],
      "metadata": {
        "id": "qLivswmwtC3u"
      },
      "execution_count": null,
      "outputs": []
    },
    {
      "cell_type": "code",
      "execution_count": null,
      "metadata": {
        "id": "zkjZ-cilDCam"
      },
      "outputs": [],
      "source": [
        "for i in range(1, samples):\n",
        "  d1 = randint(1, 6)\n",
        "  d2 = randint(1, 6)\n",
        "  d3 = randint(1, 6)\n",
        "  d4 = randint(1, 6)\n",
        "  d5 = randint(1, 6)\n",
        "  if d1 == d2 == d3 == d4 == d5 == 6:\n",
        "    all62 += 1\n",
        "print(all62, (all62 / samples) * 100)"
      ]
    }
  ],
  "metadata": {
    "colab": {
      "collapsed_sections": [],
      "provenance": [],
      "authorship_tag": "ABX9TyMCwTr7ANxkZWE0uRJeI/qz",
      "include_colab_link": true
    },
    "kernelspec": {
      "display_name": "Python 3",
      "name": "python3"
    },
    "language_info": {
      "name": "python"
    }
  },
  "nbformat": 4,
  "nbformat_minor": 0
}